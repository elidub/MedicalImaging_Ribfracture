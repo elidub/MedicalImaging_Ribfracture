{
 "cells": [
  {
   "cell_type": "code",
   "execution_count": 16,
   "metadata": {},
   "outputs": [
    {
     "name": "stdout",
     "output_type": "stream",
     "text": [
      "The autoreload extension is already loaded. To reload it, use:\n",
      "  %reload_ext autoreload\n"
     ]
    }
   ],
   "source": [
    "%load_ext autoreload\n",
    "%autoreload 2\n",
    "\n",
    "import sys, os\n",
    "import lightning.pytorch as pl\n",
    "import torch\n",
    "from matplotlib import pyplot as plt\n",
    "import numpy as np\n",
    "import pickle\n",
    "\n",
    "sys.path.insert(1, sys.path[0] + '/..')\n",
    "from src.data.datamodule import DataModule\n",
    "from src.model.setup import setup_model\n",
    "from src.misc.utils import set_seed_and_precision\n",
    "from src.misc.files import SetupArgs\n",
    "\n",
    "from src.run import parse_option, main\n",
    "args = parse_option(notebook=True)\n",
    "args.data_dir = '../data_dev'\n",
    "args.version = 'version_1'"
   ]
  },
  {
   "cell_type": "markdown",
   "metadata": {},
   "source": [
    "Train"
   ]
  },
  {
   "cell_type": "code",
   "execution_count": 20,
   "metadata": {},
   "outputs": [
    {
     "name": "stderr",
     "output_type": "stream",
     "text": [
      "Global seed set to 42\n",
      "GPU available: False, used: False\n",
      "TPU available: False, using: 0 TPU cores\n",
      "IPU available: False, using: 0 IPUs\n",
      "HPU available: False, using: 0 HPUs\n"
     ]
    },
    {
     "name": "stdout",
     "output_type": "stream",
     "text": [
      "Predicting DataLoader 0: 100%|██████████| 7/7 [00:28<00:00,  4.10s/it]\n",
      "../logs/unet3d/version_1/segmentations/val/RibFrac423/patch28/box0.npz\n",
      "torch.Size([64, 64, 64])\n",
      "(64, 64, 64)\n",
      "../logs/unet3d/version_1/segmentations/val/RibFrac423/patch39/box0.npz\n",
      "torch.Size([64, 64, 64])\n",
      "(64, 64, 64)\n",
      "../logs/unet3d/version_1/segmentations/val/RibFrac423/patch39/box1.npz\n",
      "torch.Size([64, 64, 64])\n",
      "(64, 64, 64)\n",
      "../logs/unet3d/version_1/segmentations/val/RibFrac423/patch39/box2.npz\n",
      "torch.Size([64, 64, 64])\n",
      "(64, 64, 64)\n",
      "../logs/unet3d/version_1/segmentations/val/RibFrac423/patch40/box0.npz\n",
      "torch.Size([64, 64, 64])\n",
      "(64, 64, 64)\n",
      "../logs/unet3d/version_1/segmentations/val/RibFrac423/patch42/box0.npz\n",
      "torch.Size([64, 64, 64])\n",
      "(64, 64, 64)\n",
      "../logs/unet3d/version_1/segmentations/val/RibFrac424/patch37/box0.npz\n",
      "torch.Size([64, 64, 64])\n",
      "(64, 64, 64)\n",
      "../logs/unet3d/version_1/segmentations/val/RibFrac424/patch37/box1.npz\n",
      "torch.Size([64, 64, 64])\n",
      "(64, 64, 64)\n",
      "../logs/unet3d/version_1/segmentations/val/RibFrac424/patch38/box0.npz\n",
      "torch.Size([64, 64, 64])\n",
      "(64, 64, 64)\n",
      "../logs/unet3d/version_1/segmentations/val/RibFrac424/patch38/box1.npz\n",
      "torch.Size([64, 64, 64])\n",
      "(64, 64, 64)\n",
      "../logs/unet3d/version_1/segmentations/val/RibFrac424/patch40/box0.npz\n",
      "torch.Size([64, 64, 64])\n",
      "(64, 64, 64)\n",
      "../logs/unet3d/version_1/segmentations/val/RibFrac424/patch41/box0.npz\n",
      "torch.Size([64, 64, 64])\n",
      "(64, 64, 64)\n",
      "../logs/unet3d/version_1/segmentations/val/RibFrac424/patch41/box1.npz\n",
      "torch.Size([64, 64, 64])\n",
      "(64, 64, 64)\n",
      "../logs/unet3d/version_1/segmentations/val/RibFrac424/patch41/box2.npz\n",
      "torch.Size([64, 64, 64])\n",
      "(64, 64, 64)\n",
      "../logs/unet3d/version_1/segmentations/val/RibFrac424/patch41/box3.npz\n",
      "torch.Size([64, 64, 64])\n",
      "(64, 64, 64)\n",
      "../logs/unet3d/version_1/segmentations/val/RibFrac424/patch42/box0.npz\n",
      "torch.Size([64, 64, 64])\n",
      "(64, 64, 64)\n",
      "../logs/unet3d/version_1/segmentations/val/RibFrac424/patch53/box0.npz\n",
      "torch.Size([64, 64, 64])\n",
      "(64, 64, 64)\n",
      "../logs/unet3d/version_1/segmentations/val/RibFrac424/patch57/box0.npz\n",
      "torch.Size([64, 64, 64])\n",
      "(64, 64, 64)\n",
      "../logs/unet3d/version_1/segmentations/val/RibFrac424/patch57/box1.npz\n",
      "torch.Size([64, 64, 64])\n",
      "(64, 64, 64)\n"
     ]
    }
   ],
   "source": [
    "args.train, args.predict = False, True\n",
    "args.splits = ['val']\n",
    "main(args)"
   ]
  }
 ],
 "metadata": {
  "kernelspec": {
   "display_name": "ribfrac",
   "language": "python",
   "name": "python3"
  },
  "language_info": {
   "codemirror_mode": {
    "name": "ipython",
    "version": 3
   },
   "file_extension": ".py",
   "mimetype": "text/x-python",
   "name": "python",
   "nbconvert_exporter": "python",
   "pygments_lexer": "ipython3",
   "version": "3.7.16"
  },
  "orig_nbformat": 4,
  "vscode": {
   "interpreter": {
    "hash": "037ce4eb734ca796724a3bfcd2e87a1a9135271f13e06f89372baf4d03192c7c"
   }
  }
 },
 "nbformat": 4,
 "nbformat_minor": 2
}
