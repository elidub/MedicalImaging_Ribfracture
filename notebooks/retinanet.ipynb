{
 "cells": [
  {
   "cell_type": "code",
   "execution_count": null,
   "metadata": {},
   "outputs": [],
   "source": [
    "import os\n",
    "import gzip\n",
    "import torch\n",
    "import nibabel as nib\n",
    "\n",
    "# Move working dir to access src\n",
    "os.chdir(\"../\")\n",
    "\n",
    "def read_image(file_path):\n",
    "    nii_img = nib.load(file_path)\n",
    "    image_data = nii_img.get_fdata()\n",
    "    header = nii_img.header\n",
    "    return image_data, header"
   ]
  },
  {
   "cell_type": "code",
   "execution_count": null,
   "metadata": {},
   "outputs": [],
   "source": [
    "image_data, _ = read_image('data_dev/train/images/RibFrac422-image.nii.gz') \n",
    "label_data, header = read_image('data_dev/train/labels/RibFrac422-label.nii.gz')"
   ]
  },
  {
   "cell_type": "code",
   "execution_count": null,
   "metadata": {},
   "outputs": [],
   "source": [
    "# Add batch and channel dimensions\n",
    "image_data = torch.tensor(image_data).unsqueeze(0).unsqueeze(0).float()"
   ]
  },
  {
   "cell_type": "code",
   "execution_count": null,
   "metadata": {},
   "outputs": [],
   "source": [
    "from src.model.models import UNet3D\n",
    "\n",
    "unet3d = UNet3D(1, 3)\n",
    "\n",
    "# Run 3D U-Net on [1, 1, 112, 112, 112] volume\n",
    "data = image_data[:, :, :112, :112, :112]\n",
    "unet3d_y = unet3d(data)\n",
    "unet3d_y.shape"
   ]
  },
  {
   "cell_type": "code",
   "execution_count": null,
   "metadata": {},
   "outputs": [],
   "source": [
    "from src.model.models import ResNet3D\n",
    "\n",
    "resnet3d = ResNet3D(1)\n",
    "\n",
    "# Run 3D ResNet18 on [1, 1, 64, 64, 64] volume\n",
    "data = image_data[:, :, :64, :64, :64]\n",
    "resnet3d_y = resnet3d(data)\n",
    "[e.shape for e in resnet3d_y]"
   ]
  },
  {
   "cell_type": "code",
   "execution_count": null,
   "metadata": {},
   "outputs": [],
   "source": [
    "from src.model.models import PyramidFeatures3D\n",
    "\n",
    "fpn3d = PyramidFeatures3D(128, 256, 512)\n",
    "fpn3d_y = fpn3d(*resnet183d_y)\n",
    "[e.shape for e in fpn3d_y]"
   ]
  },
  {
   "cell_type": "code",
   "execution_count": null,
   "metadata": {},
   "outputs": [],
   "source": [
    "from src.model.models import RegressionBlock3D\n",
    "\n",
    "regressgion_block = RegressionBlock3D(256)\n",
    "regressgion_block_y = torch.cat([regressgion_block(f) for f in fpn3d_y], dim=1)\n",
    "regressgion_block_y.shape"
   ]
  },
  {
   "cell_type": "code",
   "execution_count": null,
   "metadata": {},
   "outputs": [],
   "source": [
    "from src.model.models import ClassificationBlock3D\n",
    "\n",
    "classification_block = ClassificationBlock3D(256)\n",
    "classification_block_y = torch.cat([classification_block(f) for f in fpn3d_y], dim=1)\n",
    "classification_block_y.shape"
   ]
  },
  {
   "cell_type": "code",
   "execution_count": null,
   "metadata": {},
   "outputs": [],
   "source": [
    "from src.model.anchors import Anchors3D\n",
    "\n",
    "anchors = Anchors3D()\n",
    "data = image_data[:, :, :64, :64, :64]\n",
    "anchors_y = anchors(data)\n",
    "anchors_y.shape"
   ]
  },
  {
   "cell_type": "code",
   "execution_count": null,
   "metadata": {},
   "outputs": [],
   "source": [
    "from src.model.models import RetinaNet3D\n",
    "\n",
    "retinanet = RetinaNet3D(1, num_classes=1)\n",
    "data = image_data[:, :, :64, :64, :64]\n",
    "retinanet_y = retinanet(data)\n",
    "[e.shape for e in retinanet_y]"
   ]
  },
  {
   "cell_type": "code",
   "execution_count": null,
   "metadata": {},
   "outputs": [],
   "source": [
    "from src.model.modules import RetinaNetLoss, BoxLabelEncoder\n",
    "\n",
    "\n",
    "encoder = BoxLabelEncoder()\n",
    "criterion = RetinaNetLoss()\n",
    "\n",
    "pred_box = torch.rand((8, 70215, 6))\n",
    "pred_cls = torch.rand((8, 70215, 3))\n",
    "\n",
    "gt_box = torch.rand((8, 5, 6)) * 64\n",
    "gt_cls = torch.rand((8, 5, 1)).long()\n",
    "\n",
    "gt_box, gt_cls = encoder.encode(gt_box, gt_cls)\n",
    "\n",
    "box_loss, cls_loss = criterion(pred_box, pred_cls, gt_box, gt_cls)\n",
    "(box_loss + cls_loss).mean()"
   ]
  },
  {
   "cell_type": "markdown",
   "metadata": {},
   "source": [
    "## Training a RetinaNet on two volumes"
   ]
  },
  {
   "cell_type": "code",
   "execution_count": null,
   "metadata": {},
   "outputs": [],
   "source": [
    "import json\n",
    "from torch.nn.functional import interpolate\n",
    "\n",
    "with open(\"data_dev/train/train.json\", \"r\") as f:\n",
    "    train_boxes = json.load(f)\n",
    "\n",
    "# Load images and corresponding box labels\n",
    "x0 = torch.tensor(read_image(\"data_dev/train/images/RibFrac421-image.nii.gz\")[0])\n",
    "x1 = torch.tensor(read_image(\"data_dev/train/images/RibFrac422-image.nii.gz\")[0])\n",
    "y0 = torch.tensor(train_boxes[\"RibFrac421\"])\n",
    "y1 = torch.tensor(train_boxes[\"RibFrac422\"])\n",
    "\n",
    "# Convert box labels to be relative\n",
    "def convert_box_format(box, shape):\n",
    "    box[:,0] /= shape[0]\n",
    "    box[:,3] /= shape[0]\n",
    "\n",
    "    box[:,1] /= shape[1]\n",
    "    box[:,4] /= shape[1]\n",
    "\n",
    "    box[:,2] /= shape[2]\n",
    "    box[:,5] /= shape[2]\n",
    "\n",
    "    return box\n",
    "\n",
    "y0 = (convert_box_format(y0.float(), x0.shape) * 64).long().unsqueeze(0)\n",
    "y1 = (convert_box_format(y1.float(), x1.shape) * 64).long().unsqueeze(0)\n",
    "\n",
    "# Add padding to smaller labels\n",
    "y0 = torch.cat([y0, torch.zeros(1, 2, 6)], dim=1)\n",
    "\n",
    "# Downsample input volumes\n",
    "x0 = interpolate(x0.unsqueeze(0).unsqueeze(0), size=(64, 64, 64))\n",
    "x1 = interpolate(x1.unsqueeze(0).unsqueeze(0), size=(64, 64, 64))\n",
    "\n",
    "# Create training batches\n",
    "x_batch = torch.cat([x0, x1], dim=0)\n",
    "y_batch_box = torch.cat([y0, y1], dim=0)\n",
    "y_batch_cls = torch.ones(2, 6, 1)\n",
    "\n",
    "print(x_batch.shape, y_batch_box.shape, y_batch_cls.shape)\n"
   ]
  },
  {
   "cell_type": "code",
   "execution_count": null,
   "metadata": {},
   "outputs": [],
   "source": [
    "from src.model.models import RetinaNet3D\n",
    "from src.model.modules import RetinaNetLoss, BoxLabelEncoder\n",
    "\n",
    "# Encode labels\n",
    "encoder = BoxLabelEncoder()\n",
    "y_batch_box, y_batch_cls = encoder.encode(y_batch_box, y_batch_cls)\n",
    "\n",
    "# Initialize model\n",
    "model = RetinaNet3D(1, num_classes=1)\n",
    "\n",
    "# Initialize optimizer and criterion\n",
    "criterion = RetinaNetLoss()\n",
    "optimizer = torch.optim.Adam(model.parameters(), lr=0.0002)"
   ]
  },
  {
   "cell_type": "code",
   "execution_count": null,
   "metadata": {},
   "outputs": [],
   "source": [
    "for i in range(10000):\n",
    "    optimizer.zero_grad()\n",
    "    y_hat_box, y_hat_cls = model(x_batch.float())\n",
    "\n",
    "    box_loss, cls_loss = criterion(y_hat_box, y_hat_cls, y_batch_box, y_batch_cls)\n",
    "\n",
    "    loss = (box_loss + cls_loss).mean()\n",
    "    loss.backward()\n",
    "    optimizer.step()\n",
    "\n",
    "    print(box_loss.mean().item(), cls_loss.mean().item())"
   ]
  },
  {
   "cell_type": "code",
   "execution_count": null,
   "metadata": {},
   "outputs": [],
   "source": [
    "torch.save(model.state_dict(), \"dev_model.pt\")\n",
    "# model.load_state_dict(torch.load(\"dev_model.pt\"))"
   ]
  },
  {
   "cell_type": "code",
   "execution_count": null,
   "metadata": {},
   "outputs": [],
   "source": [
    "from src.model.modules import BoxLabelDecoder\n",
    "\n",
    "decoder = BoxLabelDecoder()"
   ]
  },
  {
   "cell_type": "code",
   "execution_count": null,
   "metadata": {},
   "outputs": [],
   "source": [
    "with torch.no_grad():\n",
    "    y_hat_box, y_hat_cls = model(x_batch.float())\n",
    "    y_hat_box, y_hat_cls = decoder.decode(y_hat_box, y_hat_cls)"
   ]
  },
  {
   "cell_type": "code",
   "execution_count": null,
   "metadata": {},
   "outputs": [],
   "source": [
    "y_hat_cls_idx = y_hat_cls.argmax(dim=-1)\n",
    "boxes0 = y_hat_box[0, y_hat_cls_idx[0] == 2]\n",
    "boxes1 = y_hat_box[1, y_hat_cls_idx[1] == 2]"
   ]
  },
  {
   "cell_type": "code",
   "execution_count": null,
   "metadata": {},
   "outputs": [],
   "source": [
    "boxes_tar, _ = decoder.decode(y_batch_box.clone(), y_hat_cls)\n",
    "boxes_tar0 = boxes_tar[0, y_batch_cls[0] == 2]\n",
    "boxes_tar1 = boxes_tar[1, y_batch_cls[0] == 2]"
   ]
  },
  {
   "cell_type": "code",
   "execution_count": null,
   "metadata": {},
   "outputs": [],
   "source": [
    "import matplotlib.pyplot as plt\n",
    "from mpl_toolkits.mplot3d.art3d import Poly3DCollection\n",
    "\n",
    "def plot_3d_boxes(box, color):\n",
    "    top_left_x, top_left_y, top_left_z, width, height, depth = box\n",
    "\n",
    "    vertices = [\n",
    "        [top_left_x, top_left_y, top_left_z],\n",
    "        [top_left_x + width, top_left_y, top_left_z],\n",
    "        [top_left_x + width, top_left_y + height, top_left_z],\n",
    "        [top_left_x, top_left_y + height, top_left_z],\n",
    "        [top_left_x, top_left_y, top_left_z + depth],\n",
    "        [top_left_x + width, top_left_y, top_left_z + depth],\n",
    "        [top_left_x + width, top_left_y + height, top_left_z + depth],\n",
    "        [top_left_x, top_left_y + height, top_left_z + depth],\n",
    "    ]\n",
    "\n",
    "    # Define the vertices for the six faces of the bounding box\n",
    "    faces = [\n",
    "        [vertices[0], vertices[1], vertices[2], vertices[3]],\n",
    "        [vertices[4], vertices[5], vertices[6], vertices[7]],\n",
    "        [vertices[0], vertices[1], vertices[5], vertices[4]],\n",
    "        [vertices[2], vertices[3], vertices[7], vertices[6]],\n",
    "        [vertices[1], vertices[2], vertices[6], vertices[5]],\n",
    "        [vertices[4], vertices[7], vertices[3], vertices[0]],\n",
    "    ]\n",
    "\n",
    "    # Create a Poly3DCollection for the bounding box\n",
    "    bbox = Poly3DCollection(faces, alpha=0.25, linewidths=0)\n",
    "    bbox.set_facecolor(color)\n",
    "\n",
    "    # Add the bounding box to the 3D plot\n",
    "    ax.add_collection3d(bbox)\n",
    "\n",
    "    # Set axis labels\n",
    "    ax.set_xlabel(\"X\")\n",
    "    ax.set_ylabel(\"Y\")\n",
    "    ax.set_zlabel(\"Z\")"
   ]
  },
  {
   "cell_type": "code",
   "execution_count": null,
   "metadata": {},
   "outputs": [],
   "source": [
    "fig = plt.figure(figsize=(10, 10))\n",
    "ax = fig.add_subplot(111, projection=\"3d\")\n",
    "\n",
    "for box in boxes_tar1:\n",
    "    plot_3d_boxes(box, \"b\")\n",
    "\n",
    "for box in boxes1:\n",
    "    plot_3d_boxes(box, \"r\")\n",
    "\n",
    "\n",
    "# Set plot limits (adjust as needed)\n",
    "ax.set_xlim(0, 64)\n",
    "ax.set_ylim(0, 64)\n",
    "ax.set_zlim(0, 64)\n",
    "\n",
    "plt.show()"
   ]
  },
  {
   "cell_type": "code",
   "execution_count": null,
   "metadata": {},
   "outputs": [],
   "source": []
  }
 ],
 "metadata": {
  "kernelspec": {
   "display_name": "ribfrac",
   "language": "python",
   "name": "python3"
  },
  "language_info": {
   "codemirror_mode": {
    "name": "ipython",
    "version": 3
   },
   "file_extension": ".py",
   "mimetype": "text/x-python",
   "name": "python",
   "nbconvert_exporter": "python",
   "pygments_lexer": "ipython3",
   "version": "3.8.18"
  },
  "orig_nbformat": 4,
  "vscode": {
   "interpreter": {
    "hash": "037ce4eb734ca796724a3bfcd2e87a1a9135271f13e06f89372baf4d03192c7c"
   }
  }
 },
 "nbformat": 4,
 "nbformat_minor": 2
}
