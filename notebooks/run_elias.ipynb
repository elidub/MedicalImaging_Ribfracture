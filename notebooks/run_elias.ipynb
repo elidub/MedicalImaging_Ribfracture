{
 "cells": [
  {
   "cell_type": "code",
   "execution_count": 5,
   "metadata": {},
   "outputs": [
    {
     "name": "stdout",
     "output_type": "stream",
     "text": [
      "The autoreload extension is already loaded. To reload it, use:\n",
      "  %reload_ext autoreload\n"
     ]
    }
   ],
   "source": [
    "%load_ext autoreload\n",
    "%autoreload 2\n",
    "\n",
    "import sys, os\n",
    "import lightning.pytorch as pl\n",
    "import torch\n",
    "from matplotlib import pyplot as plt\n",
    "import numpy as np\n",
    "import pickle\n",
    "\n",
    "sys.path.insert(1, sys.path[0] + '/..')\n",
    "from src.data.datamodule import DataModule\n",
    "from src.model.setup import setup_model\n",
    "from src.misc.utils import set_seed_and_precision\n",
    "from src.misc.files import SetupArgs\n",
    "\n",
    "from src.run import parse_option, main\n",
    "args = parse_option(notebook=True)\n",
    "args.data_dir = '../data_dev'\n",
    "args.version = 'version_sam'\n",
    "args.num_workers = 8"
   ]
  },
  {
   "cell_type": "markdown",
   "metadata": {},
   "source": [
    "Train"
   ]
  },
  {
   "cell_type": "code",
   "execution_count": 2,
   "metadata": {},
   "outputs": [],
   "source": [
    "# args.train, args.predict = True, False\n",
    "# args.splits = ['train', 'val']\n",
    "# main(args)"
   ]
  },
  {
   "cell_type": "markdown",
   "metadata": {},
   "source": [
    "Predict with custom loading"
   ]
  },
  {
   "cell_type": "code",
   "execution_count": 3,
   "metadata": {},
   "outputs": [],
   "source": [
    "# setup_args = SetupArgs(**{\n",
    "#     'net' : 'unet3d',\n",
    "#     'predict' : True,\n",
    "#     'train' : False,\n",
    "#     'log_dir' : '../logs',\n",
    "#     'version' : 'version_sam',\n",
    "# })\n",
    "\n",
    "# trained_unet = setup_model(setup_args)"
   ]
  },
  {
   "cell_type": "code",
   "execution_count": 10,
   "metadata": {},
   "outputs": [],
   "source": [
    "# x = torch.randn(1, 32, 32, 32) # a random image\n",
    "# y = torch.tensor([-1]) # a random label\n",
    "# batch = (x, y)\n",
    "# trained_unet(batch)"
   ]
  },
  {
   "cell_type": "markdown",
   "metadata": {},
   "source": [
    "Predict directly in run"
   ]
  },
  {
   "cell_type": "code",
   "execution_count": 7,
   "metadata": {},
   "outputs": [
    {
     "name": "stderr",
     "output_type": "stream",
     "text": [
      "Global seed set to 42\n",
      "GPU available: True (mps), used: False\n",
      "TPU available: False, using: 0 TPU cores\n",
      "IPU available: False, using: 0 IPUs\n",
      "HPU available: False, using: 0 HPUs\n"
     ]
    },
    {
     "name": "stdout",
     "output_type": "stream",
     "text": [
      "Predicting DataLoader 0: 100%|██████████| 7/7 [00:09<00:00,  1.34s/it]\n"
     ]
    }
   ],
   "source": [
    "args.train, args.predict = False, True\n",
    "args.splits = ['val']\n",
    "main(args)"
   ]
  },
  {
   "cell_type": "markdown",
   "metadata": {},
   "source": [
    "Post process"
   ]
  },
  {
   "cell_type": "code",
   "execution_count": 20,
   "metadata": {},
   "outputs": [],
   "source": [
    "from src.postprocess import main as postprocess_main, parse_option as postprocess_parse_option\n",
    "postprocess_args = postprocess_parse_option(notebook=True)\n",
    "postprocess_args.split = 'val'\n",
    "postprocess_args.prediction_box_dir = os.path.join(args.log_dir, args.net, args.version, 'segmentations')\n",
    "postprocess_args.original_image_dir = args.data_dir\n",
    "postprocess_args.save_dir = os.path.join(args.log_dir, 'submissions', args.version)"
   ]
  },
  {
   "cell_type": "code",
   "execution_count": 29,
   "metadata": {},
   "outputs": [
    {
     "name": "stderr",
     "output_type": "stream",
     "text": [
      "  0%|          | 0/2 [00:02<?, ?it/s]\n"
     ]
    }
   ],
   "source": [
    "pred_arr = postprocess_main(postprocess_args)"
   ]
  },
  {
   "cell_type": "code",
   "execution_count": 27,
   "metadata": {},
   "outputs": [
    {
     "data": {
      "text/plain": [
       "(array([64307.,  2145.,  1367.,  1073.,   881.,   822.,   799.,   853.,\n",
       "         1130.,  4562.]),\n",
       " array([0.00656139, 0.10590525, 0.20524912, 0.30459297, 0.40393683,\n",
       "        0.5032807 , 0.60262454, 0.70196843, 0.80131227, 0.90065616,\n",
       "        1.        ]),\n",
       " <BarContainer object of 10 artists>)"
      ]
     },
     "execution_count": 27,
     "metadata": {},
     "output_type": "execute_result"
    },
    {
     "data": {
      "image/png": "[encoded data removed]",
      "text/plain": [
       "<Figure size 640x480 with 1 Axes>"
      ]
     },
     "metadata": {},
     "output_type": "display_data"
    }
   ],
   "source": [
    "x = pred_arr.flatten()\n",
    "\n",
    "#drop zeros from x\n",
    "x = x[x != 0]\n",
    "plt.hist(x)"
   ]
  },
  {
   "cell_type": "code",
   "execution_count": 11,
   "metadata": {},
   "outputs": [
    {
     "data": {
      "text/plain": [
       "'../logs/unet3d/version_sam/segmentations'"
      ]
     },
     "execution_count": 11,
     "metadata": {},
     "output_type": "execute_result"
    }
   ],
   "source": [
    "pred_dir = os.path.join(args.log_dir, args.net, args.version, 'segmentations')\n",
    "pred_dir"
   ]
  },
  {
   "cell_type": "code",
   "execution_count": 9,
   "metadata": {},
   "outputs": [
    {
     "data": {
      "text/plain": [
       "'../logs/unet3d/version_sam'"
      ]
     },
     "execution_count": 9,
     "metadata": {},
     "output_type": "execute_result"
    }
   ],
   "source": [
    "pred_dir"
   ]
  },
  {
   "cell_type": "code",
   "execution_count": 28,
   "metadata": {},
   "outputs": [],
   "source": [
    "# load preds.pkl from pred_dir\n",
    "with open(os.path.join(pred_dir, 'preds.pkl'), 'rb') as f:\n",
    "    preds = pickle.load(f)"
   ]
  },
  {
   "cell_type": "code",
   "execution_count": 29,
   "metadata": {},
   "outputs": [
    {
     "data": {
      "text/plain": [
       "(tensor([[[[0.4870, 0.4870, 0.4870,  ..., 0.4870, 0.4870, 0.4870],\n",
       "           [0.4870, 0.4870, 0.4870,  ..., 0.4870, 0.4870, 0.4870],\n",
       "           [0.4870, 0.4870, 0.4870,  ..., 0.4870, 0.4870, 0.4870],\n",
       "           ...,\n",
       "           [0.4870, 0.4870, 0.4870,  ..., 0.4870, 0.4870, 0.4870],\n",
       "           [0.4870, 0.4870, 0.4870,  ..., 0.4870, 0.4870, 0.4870],\n",
       "           [0.4870, 0.4870, 0.4870,  ..., 0.4870, 0.4870, 0.4870]],\n",
       " \n",
       "          [[0.4870, 0.4870, 0.4870,  ..., 0.4870, 0.4870, 0.4870],\n",
       "           [0.4870, 0.4870, 0.4870,  ..., 0.4870, 0.4870, 0.4870],\n",
       "           [0.4870, 0.4870, 0.4870,  ..., 0.4870, 0.4870, 0.4870],\n",
       "           ...,\n",
       "           [0.4870, 0.4870, 0.4870,  ..., 0.4870, 0.4870, 0.4870],\n",
       "           [0.4870, 0.4870, 0.4870,  ..., 0.4870, 0.4870, 0.4870],\n",
       "           [0.4870, 0.4870, 0.4870,  ..., 0.4870, 0.4870, 0.4870]],\n",
       " \n",
       "          [[0.4870, 0.4870, 0.4870,  ..., 0.4870, 0.4870, 0.4870],\n",
       "           [0.4870, 0.4870, 0.4870,  ..., 0.4870, 0.4870, 0.4870],\n",
       "           [0.4870, 0.4870, 0.4870,  ..., 0.4870, 0.4870, 0.4870],\n",
       "           ...,\n",
       "           [0.4870, 0.4870, 0.4870,  ..., 0.4870, 0.4870, 0.4870],\n",
       "           [0.4870, 0.4870, 0.4870,  ..., 0.4870, 0.4870, 0.4870],\n",
       "           [0.4870, 0.4870, 0.4870,  ..., 0.4870, 0.4870, 0.4870]],\n",
       " \n",
       "          ...,\n",
       " \n",
       "          [[0.4870, 0.4870, 0.4870,  ..., 0.4870, 0.4870, 0.4870],\n",
       "           [0.4870, 0.4870, 0.4870,  ..., 0.4870, 0.4870, 0.4870],\n",
       "           [0.4870, 0.4870, 0.4870,  ..., 0.4870, 0.4870, 0.4870],\n",
       "           ...,\n",
       "           [0.4870, 0.4870, 0.4870,  ..., 0.4870, 0.4870, 0.4870],\n",
       "           [0.4870, 0.4870, 0.4870,  ..., 0.4870, 0.4870, 0.4870],\n",
       "           [0.4870, 0.4870, 0.4870,  ..., 0.4870, 0.4870, 0.4870]],\n",
       " \n",
       "          [[0.4870, 0.4870, 0.4870,  ..., 0.4870, 0.4870, 0.4870],\n",
       "           [0.4870, 0.4870, 0.4870,  ..., 0.4870, 0.4870, 0.4870],\n",
       "           [0.4870, 0.4870, 0.4870,  ..., 0.4870, 0.4870, 0.4870],\n",
       "           ...,\n",
       "           [0.4870, 0.4870, 0.4870,  ..., 0.4870, 0.4870, 0.4870],\n",
       "           [0.4870, 0.4870, 0.4870,  ..., 0.4870, 0.4870, 0.4870],\n",
       "           [0.4870, 0.4870, 0.4870,  ..., 0.4870, 0.4870, 0.4870]],\n",
       " \n",
       "          [[0.4870, 0.4870, 0.4870,  ..., 0.4870, 0.4870, 0.4870],\n",
       "           [0.4870, 0.4870, 0.4870,  ..., 0.4870, 0.4870, 0.4870],\n",
       "           [0.4870, 0.4870, 0.4870,  ..., 0.4870, 0.4870, 0.4870],\n",
       "           ...,\n",
       "           [0.4870, 0.4870, 0.4870,  ..., 0.4870, 0.4870, 0.4870],\n",
       "           [0.4870, 0.4870, 0.4870,  ..., 0.4870, 0.4870, 0.4870],\n",
       "           [0.4870, 0.4870, 0.4870,  ..., 0.4870, 0.4870, 0.4870]]],\n",
       " \n",
       " \n",
       "         [[[0.4870, 0.4870, 0.4870,  ..., 0.4870, 0.4870, 0.4870],\n",
       "           [0.4870, 0.4870, 0.4870,  ..., 0.4870, 0.4870, 0.4870],\n",
       "           [0.4870, 0.4870, 0.4870,  ..., 0.4870, 0.4870, 0.4870],\n",
       "           ...,\n",
       "           [0.4870, 0.4870, 0.4870,  ..., 0.4870, 0.4870, 0.4870],\n",
       "           [0.4870, 0.4870, 0.4870,  ..., 0.4870, 0.4870, 0.4870],\n",
       "           [0.4870, 0.4870, 0.4870,  ..., 0.4870, 0.4870, 0.4870]],\n",
       " \n",
       "          [[0.4870, 0.4870, 0.4870,  ..., 0.4870, 0.4870, 0.4870],\n",
       "           [0.4870, 0.4870, 0.4870,  ..., 0.4870, 0.4870, 0.4870],\n",
       "           [0.4870, 0.4870, 0.4870,  ..., 0.4870, 0.4870, 0.4870],\n",
       "           ...,\n",
       "           [0.4870, 0.4870, 0.4870,  ..., 0.4870, 0.4870, 0.4870],\n",
       "           [0.4870, 0.4870, 0.4870,  ..., 0.4870, 0.4870, 0.4870],\n",
       "           [0.4870, 0.4870, 0.4870,  ..., 0.4870, 0.4870, 0.4870]],\n",
       " \n",
       "          [[0.4870, 0.4870, 0.4870,  ..., 0.4870, 0.4870, 0.4870],\n",
       "           [0.4870, 0.4870, 0.4870,  ..., 0.4870, 0.4870, 0.4870],\n",
       "           [0.4870, 0.4870, 0.4870,  ..., 0.4870, 0.4870, 0.4870],\n",
       "           ...,\n",
       "           [0.4870, 0.4870, 0.4870,  ..., 0.4870, 0.4870, 0.4870],\n",
       "           [0.4870, 0.4870, 0.4870,  ..., 0.4870, 0.4870, 0.4870],\n",
       "           [0.4870, 0.4870, 0.4870,  ..., 0.4870, 0.4870, 0.4870]],\n",
       " \n",
       "          ...,\n",
       " \n",
       "          [[0.4870, 0.4870, 0.4870,  ..., 0.4870, 0.4870, 0.4870],\n",
       "           [0.4870, 0.4870, 0.4870,  ..., 0.4870, 0.4870, 0.4870],\n",
       "           [0.4870, 0.4870, 0.4870,  ..., 0.4870, 0.4870, 0.4870],\n",
       "           ...,\n",
       "           [0.4870, 0.4870, 0.4870,  ..., 0.4870, 0.4870, 0.4870],\n",
       "           [0.4870, 0.4870, 0.4870,  ..., 0.4870, 0.4870, 0.4870],\n",
       "           [0.4870, 0.4870, 0.4870,  ..., 0.4870, 0.4870, 0.4870]],\n",
       " \n",
       "          [[0.4870, 0.4870, 0.4870,  ..., 0.4870, 0.4870, 0.4870],\n",
       "           [0.4870, 0.4870, 0.4870,  ..., 0.4870, 0.4870, 0.4870],\n",
       "           [0.4870, 0.4870, 0.4870,  ..., 0.4870, 0.4870, 0.4870],\n",
       "           ...,\n",
       "           [0.4870, 0.4870, 0.4870,  ..., 0.4870, 0.4870, 0.4870],\n",
       "           [0.4870, 0.4870, 0.4870,  ..., 0.4870, 0.4870, 0.4870],\n",
       "           [0.4870, 0.4870, 0.4870,  ..., 0.4870, 0.4870, 0.4870]],\n",
       " \n",
       "          [[0.4870, 0.4870, 0.4870,  ..., 0.4870, 0.4870, 0.4870],\n",
       "           [0.4870, 0.4870, 0.4870,  ..., 0.4870, 0.4870, 0.4870],\n",
       "           [0.4870, 0.4870, 0.4870,  ..., 0.4870, 0.4870, 0.4870],\n",
       "           ...,\n",
       "           [0.4870, 0.4870, 0.4870,  ..., 0.4870, 0.4870, 0.4870],\n",
       "           [0.4870, 0.4870, 0.4870,  ..., 0.4870, 0.4870, 0.4870],\n",
       "           [0.4870, 0.4870, 0.4870,  ..., 0.4870, 0.4870, 0.4870]]],\n",
       " \n",
       " \n",
       "         [[[0.4870, 0.4870, 0.4870,  ..., 0.4870, 0.4870, 0.4870],\n",
       "           [0.4870, 0.4870, 0.4870,  ..., 0.4870, 0.4870, 0.4870],\n",
       "           [0.4870, 0.4870, 0.4870,  ..., 0.4870, 0.4870, 0.4870],\n",
       "           ...,\n",
       "           [0.4870, 0.4870, 0.4870,  ..., 0.4870, 0.4870, 0.4870],\n",
       "           [0.4870, 0.4870, 0.4870,  ..., 0.4870, 0.4870, 0.4870],\n",
       "           [0.4870, 0.4870, 0.4870,  ..., 0.4870, 0.4870, 0.4870]],\n",
       " \n",
       "          [[0.4870, 0.4870, 0.4870,  ..., 0.4870, 0.4870, 0.4870],\n",
       "           [0.4870, 0.4870, 0.4870,  ..., 0.4870, 0.4870, 0.4870],\n",
       "           [0.4870, 0.4870, 0.4870,  ..., 0.4870, 0.4870, 0.4870],\n",
       "           ...,\n",
       "           [0.4870, 0.4870, 0.4870,  ..., 0.4870, 0.4870, 0.4870],\n",
       "           [0.4870, 0.4870, 0.4870,  ..., 0.4870, 0.4870, 0.4870],\n",
       "           [0.4870, 0.4870, 0.4870,  ..., 0.4870, 0.4870, 0.4870]],\n",
       " \n",
       "          [[0.4870, 0.4870, 0.4870,  ..., 0.4870, 0.4870, 0.4870],\n",
       "           [0.4870, 0.4870, 0.4870,  ..., 0.4870, 0.4870, 0.4870],\n",
       "           [0.4870, 0.4870, 0.4870,  ..., 0.4870, 0.4870, 0.4870],\n",
       "           ...,\n",
       "           [0.4870, 0.4870, 0.4870,  ..., 0.4870, 0.4870, 0.4870],\n",
       "           [0.4870, 0.4870, 0.4870,  ..., 0.4870, 0.4870, 0.4870],\n",
       "           [0.4870, 0.4870, 0.4870,  ..., 0.4870, 0.4870, 0.4870]],\n",
       " \n",
       "          ...,\n",
       " \n",
       "          [[0.4870, 0.4870, 0.4870,  ..., 0.4870, 0.4870, 0.4870],\n",
       "           [0.4870, 0.4870, 0.4870,  ..., 0.4870, 0.4870, 0.4870],\n",
       "           [0.4870, 0.4870, 0.4870,  ..., 0.4870, 0.4870, 0.4870],\n",
       "           ...,\n",
       "           [0.4870, 0.4870, 0.4870,  ..., 0.4870, 0.4870, 0.4870],\n",
       "           [0.4870, 0.4870, 0.4870,  ..., 0.4870, 0.4870, 0.4870],\n",
       "           [0.4870, 0.4870, 0.4870,  ..., 0.4870, 0.4870, 0.4870]],\n",
       " \n",
       "          [[0.4870, 0.4870, 0.4870,  ..., 0.4870, 0.4870, 0.4870],\n",
       "           [0.4870, 0.4870, 0.4870,  ..., 0.4870, 0.4870, 0.4870],\n",
       "           [0.4870, 0.4870, 0.4870,  ..., 0.4870, 0.4870, 0.4870],\n",
       "           ...,\n",
       "           [0.4870, 0.4870, 0.4870,  ..., 0.4870, 0.4870, 0.4870],\n",
       "           [0.4870, 0.4870, 0.4870,  ..., 0.4870, 0.4870, 0.4870],\n",
       "           [0.4870, 0.4870, 0.4870,  ..., 0.4870, 0.4870, 0.4870]],\n",
       " \n",
       "          [[0.4870, 0.4870, 0.4870,  ..., 0.4870, 0.4870, 0.4870],\n",
       "           [0.4870, 0.4870, 0.4870,  ..., 0.4870, 0.4870, 0.4870],\n",
       "           [0.4870, 0.4870, 0.4870,  ..., 0.4870, 0.4870, 0.4870],\n",
       "           ...,\n",
       "           [0.4870, 0.4870, 0.4870,  ..., 0.4870, 0.4870, 0.4870],\n",
       "           [0.4870, 0.4870, 0.4870,  ..., 0.4870, 0.4870, 0.4870],\n",
       "           [0.4870, 0.4870, 0.4870,  ..., 0.4870, 0.4870, 0.4870]]]]),\n",
       " tensor([[[[0., 0., 0.,  ..., 0., 0., 0.],\n",
       "           [0., 0., 0.,  ..., 0., 0., 0.],\n",
       "           [0., 0., 0.,  ..., 0., 0., 0.],\n",
       "           ...,\n",
       "           [0., 0., 0.,  ..., 0., 0., 0.],\n",
       "           [0., 0., 0.,  ..., 0., 0., 0.],\n",
       "           [0., 0., 0.,  ..., 0., 0., 0.]],\n",
       " \n",
       "          [[0., 0., 0.,  ..., 0., 0., 0.],\n",
       "           [0., 0., 0.,  ..., 0., 0., 0.],\n",
       "           [0., 0., 0.,  ..., 0., 0., 0.],\n",
       "           ...,\n",
       "           [0., 0., 0.,  ..., 0., 0., 0.],\n",
       "           [0., 0., 0.,  ..., 0., 0., 0.],\n",
       "           [0., 0., 0.,  ..., 0., 0., 0.]],\n",
       " \n",
       "          [[0., 0., 0.,  ..., 0., 0., 0.],\n",
       "           [0., 0., 0.,  ..., 0., 0., 0.],\n",
       "           [0., 0., 0.,  ..., 0., 0., 0.],\n",
       "           ...,\n",
       "           [0., 0., 0.,  ..., 0., 0., 0.],\n",
       "           [0., 0., 0.,  ..., 0., 0., 0.],\n",
       "           [0., 0., 0.,  ..., 0., 0., 0.]],\n",
       " \n",
       "          ...,\n",
       " \n",
       "          [[0., 0., 0.,  ..., 0., 0., 0.],\n",
       "           [0., 0., 0.,  ..., 0., 0., 0.],\n",
       "           [0., 0., 0.,  ..., 0., 0., 0.],\n",
       "           ...,\n",
       "           [0., 0., 0.,  ..., 0., 0., 0.],\n",
       "           [0., 0., 0.,  ..., 0., 0., 0.],\n",
       "           [0., 0., 0.,  ..., 0., 0., 0.]],\n",
       " \n",
       "          [[0., 0., 0.,  ..., 0., 0., 0.],\n",
       "           [0., 0., 0.,  ..., 0., 0., 0.],\n",
       "           [0., 0., 0.,  ..., 0., 0., 0.],\n",
       "           ...,\n",
       "           [0., 0., 0.,  ..., 0., 0., 0.],\n",
       "           [0., 0., 0.,  ..., 0., 0., 0.],\n",
       "           [0., 0., 0.,  ..., 0., 0., 0.]],\n",
       " \n",
       "          [[0., 0., 0.,  ..., 0., 0., 0.],\n",
       "           [0., 0., 0.,  ..., 0., 0., 0.],\n",
       "           [0., 0., 0.,  ..., 0., 0., 0.],\n",
       "           ...,\n",
       "           [0., 0., 0.,  ..., 0., 0., 0.],\n",
       "           [0., 0., 0.,  ..., 0., 0., 0.],\n",
       "           [0., 0., 0.,  ..., 0., 0., 0.]]],\n",
       " \n",
       " \n",
       "         [[[0., 0., 0.,  ..., 0., 0., 0.],\n",
       "           [0., 0., 0.,  ..., 0., 0., 0.],\n",
       "           [0., 0., 0.,  ..., 0., 0., 0.],\n",
       "           ...,\n",
       "           [0., 0., 0.,  ..., 0., 0., 0.],\n",
       "           [0., 0., 0.,  ..., 0., 0., 0.],\n",
       "           [0., 0., 0.,  ..., 0., 0., 0.]],\n",
       " \n",
       "          [[0., 0., 0.,  ..., 0., 0., 0.],\n",
       "           [0., 0., 0.,  ..., 0., 0., 0.],\n",
       "           [0., 0., 0.,  ..., 0., 0., 0.],\n",
       "           ...,\n",
       "           [0., 0., 0.,  ..., 0., 0., 0.],\n",
       "           [0., 0., 0.,  ..., 0., 0., 0.],\n",
       "           [0., 0., 0.,  ..., 0., 0., 0.]],\n",
       " \n",
       "          [[0., 0., 0.,  ..., 0., 0., 0.],\n",
       "           [0., 0., 0.,  ..., 0., 0., 0.],\n",
       "           [0., 0., 7.,  ..., 0., 0., 0.],\n",
       "           ...,\n",
       "           [0., 0., 0.,  ..., 0., 0., 0.],\n",
       "           [0., 0., 0.,  ..., 0., 0., 0.],\n",
       "           [0., 0., 0.,  ..., 0., 0., 0.]],\n",
       " \n",
       "          ...,\n",
       " \n",
       "          [[0., 0., 0.,  ..., 0., 0., 0.],\n",
       "           [0., 0., 0.,  ..., 0., 0., 0.],\n",
       "           [0., 0., 0.,  ..., 0., 0., 0.],\n",
       "           ...,\n",
       "           [0., 0., 0.,  ..., 0., 0., 0.],\n",
       "           [0., 0., 0.,  ..., 0., 0., 0.],\n",
       "           [0., 0., 0.,  ..., 0., 0., 0.]],\n",
       " \n",
       "          [[0., 0., 0.,  ..., 0., 0., 0.],\n",
       "           [0., 0., 0.,  ..., 0., 0., 0.],\n",
       "           [0., 0., 0.,  ..., 0., 0., 0.],\n",
       "           ...,\n",
       "           [0., 0., 0.,  ..., 0., 0., 0.],\n",
       "           [0., 0., 0.,  ..., 0., 0., 0.],\n",
       "           [0., 0., 0.,  ..., 0., 0., 0.]],\n",
       " \n",
       "          [[0., 0., 0.,  ..., 0., 0., 0.],\n",
       "           [0., 0., 0.,  ..., 0., 0., 0.],\n",
       "           [0., 0., 0.,  ..., 0., 0., 0.],\n",
       "           ...,\n",
       "           [0., 0., 0.,  ..., 0., 0., 0.],\n",
       "           [0., 0., 0.,  ..., 0., 0., 0.],\n",
       "           [0., 0., 0.,  ..., 0., 0., 0.]]],\n",
       " \n",
       " \n",
       "         [[[0., 0., 0.,  ..., 0., 0., 0.],\n",
       "           [0., 0., 0.,  ..., 0., 0., 0.],\n",
       "           [0., 0., 2.,  ..., 0., 0., 0.],\n",
       "           ...,\n",
       "           [0., 0., 0.,  ..., 0., 0., 0.],\n",
       "           [0., 0., 0.,  ..., 0., 0., 0.],\n",
       "           [0., 0., 0.,  ..., 0., 0., 0.]],\n",
       " \n",
       "          [[0., 0., 0.,  ..., 0., 0., 0.],\n",
       "           [0., 0., 0.,  ..., 0., 0., 0.],\n",
       "           [0., 0., 2.,  ..., 0., 0., 0.],\n",
       "           ...,\n",
       "           [0., 0., 0.,  ..., 0., 0., 0.],\n",
       "           [0., 0., 0.,  ..., 0., 0., 0.],\n",
       "           [0., 0., 0.,  ..., 0., 0., 0.]],\n",
       " \n",
       "          [[0., 0., 0.,  ..., 0., 0., 0.],\n",
       "           [0., 0., 0.,  ..., 0., 0., 0.],\n",
       "           [0., 2., 2.,  ..., 0., 0., 0.],\n",
       "           ...,\n",
       "           [0., 0., 0.,  ..., 0., 0., 0.],\n",
       "           [0., 0., 0.,  ..., 0., 0., 0.],\n",
       "           [0., 0., 0.,  ..., 0., 0., 0.]],\n",
       " \n",
       "          ...,\n",
       " \n",
       "          [[0., 0., 0.,  ..., 0., 0., 0.],\n",
       "           [0., 0., 0.,  ..., 0., 0., 0.],\n",
       "           [0., 0., 0.,  ..., 0., 0., 0.],\n",
       "           ...,\n",
       "           [0., 0., 0.,  ..., 0., 0., 0.],\n",
       "           [0., 0., 0.,  ..., 0., 0., 0.],\n",
       "           [0., 0., 0.,  ..., 0., 0., 0.]],\n",
       " \n",
       "          [[0., 0., 0.,  ..., 0., 0., 0.],\n",
       "           [0., 0., 0.,  ..., 0., 0., 0.],\n",
       "           [0., 0., 0.,  ..., 0., 0., 0.],\n",
       "           ...,\n",
       "           [0., 0., 0.,  ..., 0., 0., 0.],\n",
       "           [0., 0., 0.,  ..., 0., 0., 0.],\n",
       "           [0., 0., 0.,  ..., 0., 0., 0.]],\n",
       " \n",
       "          [[0., 0., 0.,  ..., 0., 0., 0.],\n",
       "           [0., 0., 0.,  ..., 0., 0., 0.],\n",
       "           [0., 0., 0.,  ..., 0., 0., 0.],\n",
       "           ...,\n",
       "           [0., 0., 0.,  ..., 0., 0., 0.],\n",
       "           [0., 0., 0.,  ..., 0., 0., 0.],\n",
       "           [0., 0., 0.,  ..., 0., 0., 0.]]]]))"
      ]
     },
     "execution_count": 29,
     "metadata": {},
     "output_type": "execute_result"
    }
   ],
   "source": [
    "preds[0]"
   ]
  },
  {
   "cell_type": "markdown",
   "metadata": {},
   "source": [
    "### Dev"
   ]
  }
 ],
 "metadata": {
  "kernelspec": {
   "display_name": "ribfrac",
   "language": "python",
   "name": "python3"
  },
  "language_info": {
   "codemirror_mode": {
    "name": "ipython",
    "version": 3
   },
   "file_extension": ".py",
   "mimetype": "text/x-python",
   "name": "python",
   "nbconvert_exporter": "python",
   "pygments_lexer": "ipython3",
   "version": "3.8.18"
  },
  "orig_nbformat": 4
 },
 "nbformat": 4,
 "nbformat_minor": 2
}
