{
 "cells": [
  {
   "cell_type": "code",
   "execution_count": null,
   "metadata": {},
   "outputs": [],
   "source": [
    "%load_ext autoreload\n",
    "%autoreload 2\n",
    "\n",
    "import sys\n",
    "import lightning.pytorch as pl\n",
    "import torch\n",
    "\n",
    "sys.path.insert(1, sys.path[0] + '/..')\n",
    "from src.data.datamodule import DataModule\n",
    "from src.model.setup import setup_model\n",
    "\n",
    "from src.run import parse_option\n",
    "args = parse_option(notebook=True)"
   ]
  },
  {
   "cell_type": "markdown",
   "metadata": {},
   "source": [
    "Cell below should be the same as `main()` in `run.py`"
   ]
  },
  {
   "cell_type": "code",
   "execution_count": 2,
   "metadata": {},
   "outputs": [
    {
     "name": "stderr",
     "output_type": "stream",
     "text": [
      "Global seed set to 42\n",
      "GPU available: True (mps), used: False\n",
      "TPU available: False, using: 0 TPU cores\n",
      "IPU available: False, using: 0 IPUs\n",
      "HPU available: False, using: 0 HPUs\n",
      "/Users/elias/anaconda3/envs/ribfrac/lib/python3.8/site-packages/lightning/pytorch/trainer/setup.py:201: UserWarning: MPS available but not used. Set `accelerator` and `devices` using `Trainer(accelerator='mps', devices=1)`.\n",
      "  rank_zero_warn(\n",
      "\n",
      "  | Name    | Type             | Params\n",
      "---------------------------------------------\n",
      "0 | net     | DummyNetwork     | 67.1 M\n",
      "1 | loss_fn | CrossEntropyLoss | 0     \n",
      "---------------------------------------------\n",
      "67.1 M    Trainable params\n",
      "0         Non-trainable params\n",
      "67.1 M    Total params\n",
      "268.453   Total estimated model params size (MB)\n"
     ]
    },
    {
     "name": "stdout",
     "output_type": "stream",
     "text": [
      "Sanity Checking: 0it [00:00, ?it/s]"
     ]
    },
    {
     "name": "stderr",
     "output_type": "stream",
     "text": [
      "/Users/elias/anaconda3/envs/ribfrac/lib/python3.8/site-packages/lightning/pytorch/trainer/connectors/data_connector.py:442: PossibleUserWarning: The dataloader, val_dataloader, does not have many workers which may be a bottleneck. Consider increasing the value of the `num_workers` argument` (try 8 which is the number of cpus on this machine) in the `DataLoader` init to improve performance.\n",
      "  rank_zero_warn(\n"
     ]
    },
    {
     "name": "stdout",
     "output_type": "stream",
     "text": [
      "                                                                           "
     ]
    },
    {
     "name": "stderr",
     "output_type": "stream",
     "text": [
      "/Users/elias/anaconda3/envs/ribfrac/lib/python3.8/site-packages/lightning/pytorch/trainer/connectors/data_connector.py:442: PossibleUserWarning: The dataloader, train_dataloader, does not have many workers which may be a bottleneck. Consider increasing the value of the `num_workers` argument` (try 8 which is the number of cpus on this machine) in the `DataLoader` init to improve performance.\n",
      "  rank_zero_warn(\n"
     ]
    },
    {
     "name": "stdout",
     "output_type": "stream",
     "text": [
      "Epoch 2: 100%|██████████| 2/2 [00:08<00:00,  4.02s/it, v_num=on_0, train_loss=-, train_acc=0.000, val_loss=0.000, val_acc=0.500]"
     ]
    },
    {
     "name": "stderr",
     "output_type": "stream",
     "text": [
      "`Trainer.fit` stopped: `max_epochs=3` reached.\n"
     ]
    },
    {
     "name": "stdout",
     "output_type": "stream",
     "text": [
      "Epoch 2: 100%|██████████| 2/2 [00:08<00:00,  4.33s/it, v_num=on_0, train_loss=-, train_acc=0.000, val_loss=0.000, val_acc=0.500]\n"
     ]
    }
   ],
   "source": [
    "# pl.seed_everything(args.seed, workers=True)\n",
    "# torch.use_deterministic_algorithms(warn_only=True)\n",
    "torch.set_float32_matmul_precision('medium')\n",
    "\n",
    "datamodule = DataModule(dir = '../data_dev', num_workers=args.num_workers, batch_size=args.batch_size)\n",
    "model = setup_model()\n",
    "\n",
    "trainer = pl.Trainer(\n",
    "    logger = pl.loggers.TensorBoardLogger('../logs', name = 'test', version = args.version),\n",
    "    max_epochs=args.max_epochs,\n",
    "    log_every_n_steps=1,\n",
    "    accelerator = 'gpu' if torch.cuda.is_available() else 'cpu',\n",
    "    callbacks = [\n",
    "            pl.callbacks.TQDMProgressBar(refresh_rate = 1000)\n",
    "            ],\n",
    "    deterministic = True,\n",
    ")\n",
    "\n",
    "trainer.fit(model,  datamodule=datamodule)"
   ]
  }
 ],
 "metadata": {
  "kernelspec": {
   "display_name": "ribfrac",
   "language": "python",
   "name": "python3"
  },
  "language_info": {
   "codemirror_mode": {
    "name": "ipython",
    "version": 3
   },
   "file_extension": ".py",
   "mimetype": "text/x-python",
   "name": "python",
   "nbconvert_exporter": "python",
   "pygments_lexer": "ipython3",
   "version": "3.8.18"
  },
  "orig_nbformat": 4
 },
 "nbformat": 4,
 "nbformat_minor": 2
}
