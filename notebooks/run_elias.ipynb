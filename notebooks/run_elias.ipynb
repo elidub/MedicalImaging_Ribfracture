{
 "cells": [
  {
   "cell_type": "code",
   "execution_count": 2,
   "metadata": {},
   "outputs": [
    {
     "name": "stdout",
     "output_type": "stream",
     "text": [
      "The autoreload extension is already loaded. To reload it, use:\n",
      "  %reload_ext autoreload\n"
     ]
    }
   ],
   "source": [
    "%load_ext autoreload\n",
    "%autoreload 2\n",
    "\n",
    "import sys\n",
    "import lightning.pytorch as pl\n",
    "import torch\n",
    "from matplotlib import pyplot as plt\n",
    "import numpy as np\n",
    "\n",
    "sys.path.insert(1, sys.path[0] + '/..')\n",
    "from src.data.datamodule import DataModule\n",
    "from src.model.setup import setup_model\n",
    "from src.misc.utils import set_seed_and_precision\n",
    "\n",
    "from src.run import parse_option\n",
    "args = parse_option(notebook=True)"
   ]
  },
  {
   "cell_type": "markdown",
   "metadata": {},
   "source": [
    "Cell below should be the same as `main()` in `run.py`"
   ]
  },
  {
   "cell_type": "code",
   "execution_count": 6,
   "metadata": {},
   "outputs": [
    {
     "name": "stderr",
     "output_type": "stream",
     "text": [
      "Global seed set to 42\n",
      "GPU available: True (mps), used: False\n",
      "TPU available: False, using: 0 TPU cores\n",
      "IPU available: False, using: 0 IPUs\n",
      "HPU available: False, using: 0 HPUs\n",
      "/Users/elias/anaconda3/envs/ribfrac/lib/python3.8/site-packages/lightning/pytorch/trainer/setup.py:201: UserWarning: MPS available but not used. Set `accelerator` and `devices` using `Trainer(accelerator='mps', devices=1)`.\n",
      "  rank_zero_warn(\n",
      "Running in `fast_dev_run` mode: will run the requested loop using 1 batch(es). Logging and checkpointing is suppressed.\n",
      "\n",
      "  | Name | Type             | Params\n",
      "------------------------------------------\n",
      "0 | net  | UNet3D           | 5.0 M \n",
      "1 | loss | CrossEntropyLoss | 0     \n",
      "------------------------------------------\n",
      "5.0 M     Trainable params\n",
      "0         Non-trainable params\n",
      "5.0 M     Total params\n",
      "20.089    Total estimated model params size (MB)\n",
      "/Users/elias/anaconda3/envs/ribfrac/lib/python3.8/site-packages/lightning/pytorch/trainer/connectors/data_connector.py:442: PossibleUserWarning: The dataloader, train_dataloader, does not have many workers which may be a bottleneck. Consider increasing the value of the `num_workers` argument` (try 8 which is the number of cpus on this machine) in the `DataLoader` init to improve performance.\n",
      "  rank_zero_warn(\n",
      "/Users/elias/anaconda3/envs/ribfrac/lib/python3.8/site-packages/lightning/pytorch/trainer/connectors/data_connector.py:442: PossibleUserWarning: The dataloader, val_dataloader, does not have many workers which may be a bottleneck. Consider increasing the value of the `num_workers` argument` (try 8 which is the number of cpus on this machine) in the `DataLoader` init to improve performance.\n",
      "  rank_zero_warn(\n"
     ]
    },
    {
     "name": "stdout",
     "output_type": "stream",
     "text": [
      "Epoch 0:   0%|          | 0/1 [00:00<?, ?it/s] \n",
      "x.shape   torch.Size([1, 128, 128, 128]) \n",
      "y.shape   torch.Size([1, 128, 128, 128]) \n",
      "y_hat.shape torch.Size([1, 128, 128, 128])\n",
      "Epoch 0: 100%|██████████| 1/1 [00:13<00:00, 13.20s/it, train_loss=0.681, train_acc=0.000427]\n",
      "x.shape   torch.Size([1, 128, 128, 128]) \n",
      "y.shape   torch.Size([1, 128, 128, 128]) \n",
      "y_hat.shape torch.Size([1, 128, 128, 128])\n",
      "Epoch 0: 100%|██████████| 1/1 [00:17<00:00, 17.59s/it, train_loss=0.681, train_acc=0.000427, val_loss=0.411, val_acc=0.999]"
     ]
    },
    {
     "name": "stderr",
     "output_type": "stream",
     "text": [
      "`Trainer.fit` stopped: `max_steps=1` reached.\n"
     ]
    },
    {
     "name": "stdout",
     "output_type": "stream",
     "text": [
      "Epoch 0: 100%|██████████| 1/1 [00:17<00:00, 17.59s/it, train_loss=0.681, train_acc=0.000427, val_loss=0.411, val_acc=0.999]\n"
     ]
    }
   ],
   "source": [
    "set_seed_and_precision(args)\n",
    "\n",
    "datamodule = DataModule(dir = '../data_dev', dataset = 'boxes', num_workers=args.num_workers, batch_size=args.batch_size)\n",
    "model = setup_model(net = args.net)\n",
    "\n",
    "trainer = pl.Trainer(\n",
    "    fast_dev_run=True,\n",
    "    logger = pl.loggers.TensorBoardLogger('../logs', name = 'test', version = args.version),\n",
    "    max_epochs=args.max_epochs,\n",
    "    log_every_n_steps=1,\n",
    "    accelerator = 'gpu' if torch.cuda.is_available() else 'cpu',\n",
    "    callbacks = [\n",
    "            pl.callbacks.TQDMProgressBar(refresh_rate = 1000)\n",
    "            ],\n",
    "    deterministic = False, # Set to False for max_pool3d_with_indices_backward_cuda\n",
    ")\n",
    "\n",
    "trainer.fit(model,  datamodule=datamodule)"
   ]
  },
  {
   "cell_type": "markdown",
   "metadata": {},
   "source": [
    "### Dev"
   ]
  },
  {
   "cell_type": "code",
   "execution_count": 29,
   "metadata": {},
   "outputs": [
    {
     "data": {
      "text/plain": [
       "torch.Size([64, 64, 64])"
      ]
     },
     "execution_count": 29,
     "metadata": {},
     "output_type": "execute_result"
    }
   ],
   "source": [
    "datamodule = DataModule(dir = '../data_dev', dataset = 'boxes', num_workers=args.num_workers, batch_size=args.batch_size, splits = ['train', 'val'])\n",
    "datamodule.setup()\n",
    "example = datamodule.train_dataloader().dataset[0]\n",
    "example[0].shape"
   ]
  },
  {
   "cell_type": "code",
   "execution_count": 31,
   "metadata": {},
   "outputs": [],
   "source": [
    "from src.model.models import UNet3D"
   ]
  },
  {
   "cell_type": "code",
   "execution_count": 32,
   "metadata": {},
   "outputs": [],
   "source": [
    "net = UNet3D(1,1)"
   ]
  }
 ],
 "metadata": {
  "kernelspec": {
   "display_name": "ribfrac",
   "language": "python",
   "name": "python3"
  },
  "language_info": {
   "codemirror_mode": {
    "name": "ipython",
    "version": 3
   },
   "file_extension": ".py",
   "mimetype": "text/x-python",
   "name": "python",
   "nbconvert_exporter": "python",
   "pygments_lexer": "ipython3",
   "version": "3.8.18"
  },
  "orig_nbformat": 4
 },
 "nbformat": 4,
 "nbformat_minor": 2
}
