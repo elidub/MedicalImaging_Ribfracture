{
 "cells": [
  {
   "cell_type": "code",
   "execution_count": 1,
   "metadata": {},
   "outputs": [],
   "source": [
    "import os\n",
    "import gzip\n",
    "import torch\n",
    "import nibabel as nib\n",
    "\n",
    "# Move working dir to access src\n",
    "os.chdir(\"../\")\n",
    "\n",
    "def read_image(file_path):\n",
    "    nii_img = nib.load(file_path)\n",
    "    image_data = nii_img.get_fdata()\n",
    "    header = nii_img.header\n",
    "    return image_data, header"
   ]
  },
  {
   "cell_type": "code",
   "execution_count": 2,
   "metadata": {},
   "outputs": [],
   "source": [
    "image_data, _ = read_image('data_dev/train/images/RibFrac422-image.nii.gz') \n",
    "label_data, header = read_image('data_dev/train/labels/RibFrac422-label.nii.gz')"
   ]
  },
  {
   "cell_type": "code",
   "execution_count": 3,
   "metadata": {},
   "outputs": [],
   "source": [
    "# Add batch and channel dimensions\n",
    "image_data = torch.tensor(image_data).unsqueeze(0).unsqueeze(0).float()"
   ]
  },
  {
   "cell_type": "code",
   "execution_count": 4,
   "metadata": {},
   "outputs": [
    {
     "data": {
      "text/plain": [
       "torch.Size([1, 3, 112, 112, 112])"
      ]
     },
     "execution_count": 4,
     "metadata": {},
     "output_type": "execute_result"
    }
   ],
   "source": [
    "from src.model.models import UNet3D\n",
    "\n",
    "unet3d = UNet3D(1, 3)\n",
    "\n",
    "# Run 3D U-Net on [1, 1, 112, 112, 112] volume\n",
    "data = image_data[:, :, :112, :112, :112]\n",
    "unet3d_y = unet3d(data)\n",
    "unet3d_y.shape"
   ]
  },
  {
   "cell_type": "code",
   "execution_count": 5,
   "metadata": {},
   "outputs": [
    {
     "data": {
      "text/plain": [
       "[torch.Size([1, 128, 16, 16, 16]),\n",
       " torch.Size([1, 256, 8, 8, 8]),\n",
       " torch.Size([1, 512, 4, 4, 4])]"
      ]
     },
     "execution_count": 5,
     "metadata": {},
     "output_type": "execute_result"
    }
   ],
   "source": [
    "from src.model.models import ResNet183D\n",
    "\n",
    "resnet183d = ResNet183D(1)\n",
    "\n",
    "# Run 3D ResNet18 on [1, 1, 64, 64, 64] volume\n",
    "data = image_data[:, :, :64, :64, :64]\n",
    "resnet183d_y = resnet183d(data)\n",
    "[e.shape for e in resnet183d_y]"
   ]
  },
  {
   "cell_type": "code",
   "execution_count": 6,
   "metadata": {},
   "outputs": [
    {
     "data": {
      "text/plain": [
       "[torch.Size([1, 256, 16, 16, 16]),\n",
       " torch.Size([1, 256, 8, 8, 8]),\n",
       " torch.Size([1, 256, 4, 4, 4]),\n",
       " torch.Size([1, 256, 2, 2, 2]),\n",
       " torch.Size([1, 256, 1, 1, 1])]"
      ]
     },
     "execution_count": 6,
     "metadata": {},
     "output_type": "execute_result"
    }
   ],
   "source": [
    "from src.model.models import PyramidFeatures3D\n",
    "\n",
    "fpn3d = PyramidFeatures3D(128, 256, 512)\n",
    "fpn3d_y = fpn3d(*resnet183d_y)\n",
    "[e.shape for e in fpn3d_y]"
   ]
  },
  {
   "cell_type": "code",
   "execution_count": 7,
   "metadata": {},
   "outputs": [
    {
     "data": {
      "text/plain": [
       "torch.Size([1, 70215, 6])"
      ]
     },
     "execution_count": 7,
     "metadata": {},
     "output_type": "execute_result"
    }
   ],
   "source": [
    "from src.model.models import RegressionBlock3D\n",
    "\n",
    "regressgion_block = RegressionBlock3D(256)\n",
    "regressgion_block_y = torch.cat([regressgion_block(f) for f in fpn3d_y], dim=1)\n",
    "regressgion_block_y.shape"
   ]
  },
  {
   "cell_type": "code",
   "execution_count": 8,
   "metadata": {},
   "outputs": [
    {
     "data": {
      "text/plain": [
       "torch.Size([1, 70215, 10])"
      ]
     },
     "execution_count": 8,
     "metadata": {},
     "output_type": "execute_result"
    }
   ],
   "source": [
    "from src.model.models import ClassificationBlock3D\n",
    "\n",
    "classification_block = ClassificationBlock3D(256)\n",
    "classification_block_y = torch.cat([classification_block(f) for f in fpn3d_y], dim=1)\n",
    "classification_block_y.shape"
   ]
  },
  {
   "cell_type": "code",
   "execution_count": 9,
   "metadata": {},
   "outputs": [
    {
     "name": "stderr",
     "output_type": "stream",
     "text": [
      "/home/samtitar/miniconda3/envs/ai4med/lib/python3.11/site-packages/torch/functional.py:504: UserWarning: torch.meshgrid: in an upcoming release, it will be required to pass the indexing argument. (Triggered internally at ../aten/src/ATen/native/TensorShape.cpp:3483.)\n",
      "  return _VF.meshgrid(tensors, **kwargs)  # type: ignore[attr-defined]\n"
     ]
    },
    {
     "data": {
      "text/plain": [
       "torch.Size([70215, 6])"
      ]
     },
     "execution_count": 9,
     "metadata": {},
     "output_type": "execute_result"
    }
   ],
   "source": [
    "from src.model.anchors import Anchors3D\n",
    "\n",
    "anchors = Anchors3D()\n",
    "data = image_data[:, :, :64, :64, :64]\n",
    "anchors_y = anchors(data)\n",
    "anchors_y.shape"
   ]
  },
  {
   "cell_type": "code",
   "execution_count": 10,
   "metadata": {},
   "outputs": [
    {
     "data": {
      "text/plain": [
       "[torch.Size([1, 70215, 6]), torch.Size([1, 70215, 3])]"
      ]
     },
     "execution_count": 10,
     "metadata": {},
     "output_type": "execute_result"
    }
   ],
   "source": [
    "from src.model.models import RetinaNet3D\n",
    "\n",
    "retinanet = RetinaNet3D(1, num_classes=1)\n",
    "data = image_data[:, :, :64, :64, :64]\n",
    "retinanet_y = retinanet(data)\n",
    "[e.shape for e in retinanet_y]"
   ]
  },
  {
   "cell_type": "code",
   "execution_count": 11,
   "metadata": {},
   "outputs": [
    {
     "data": {
      "text/plain": [
       "tensor([[0.1250, 1.0000],\n",
       "        [1.0000, 0.1250]])"
      ]
     },
     "execution_count": 11,
     "metadata": {},
     "output_type": "execute_result"
    }
   ],
   "source": [
    "from src.misc.utils import pairwise_iou\n",
    "\n",
    "boxes1 = torch.tensor([[0, 0, 0, 1, 1, 1], [0, 0, 0, 0.5, 0.5, 0.5]])\n",
    "boxes2 = torch.tensor([[0, 0, 0, 0.5, 0.5, 0.5], [0, 0, 0, 1, 1, 1]])\n",
    "\n",
    "pairwise_iou(boxes1, boxes2)"
   ]
  },
  {
   "cell_type": "code",
   "execution_count": 12,
   "metadata": {},
   "outputs": [
    {
     "data": {
      "text/plain": [
       "(tensor([1, 0]), tensor([1., 1.]), tensor([0., 0.]))"
      ]
     },
     "execution_count": 12,
     "metadata": {},
     "output_type": "execute_result"
    }
   ],
   "source": [
    "from src.model.anchors import match_anchor_boxes\n",
    "\n",
    "match_anchor_boxes(boxes1, boxes2)"
   ]
  },
  {
   "cell_type": "code",
   "execution_count": 44,
   "metadata": {},
   "outputs": [
    {
     "data": {
      "text/plain": [
       "tensor(4.2535e+37)"
      ]
     },
     "execution_count": 44,
     "metadata": {},
     "output_type": "execute_result"
    }
   ],
   "source": [
    "from src.model.modules import RetinaNetLoss, BoxLabelEncoder\n",
    "\n",
    "\n",
    "encoder = BoxLabelEncoder()\n",
    "criterion = RetinaNetLoss()\n",
    "\n",
    "pred_box = torch.rand((8, 70215, 6))\n",
    "pred_cls = torch.rand((8, 70215, 3))\n",
    "\n",
    "gt_box = torch.rand((8, 5, 6)) * 64\n",
    "gt_cls = torch.rand((8, 5, 1)).long()\n",
    "\n",
    "gt_box, gt_cls = encoder.encode(gt_box, gt_cls)\n",
    "\n",
    "box_loss, cls_loss = criterion(pred_box, pred_cls, gt_box, gt_cls)\n",
    "(box_loss + cls_loss).mean()"
   ]
  },
  {
   "cell_type": "code",
   "execution_count": null,
   "metadata": {},
   "outputs": [],
   "source": []
  }
 ],
 "metadata": {
  "kernelspec": {
   "display_name": "ribfrac",
   "language": "python",
   "name": "python3"
  },
  "language_info": {
   "codemirror_mode": {
    "name": "ipython",
    "version": 3
   },
   "file_extension": ".py",
   "mimetype": "text/x-python",
   "name": "python",
   "nbconvert_exporter": "python",
   "pygments_lexer": "ipython3",
   "version": "3.11.5"
  },
  "orig_nbformat": 4,
  "vscode": {
   "interpreter": {
    "hash": "037ce4eb734ca796724a3bfcd2e87a1a9135271f13e06f89372baf4d03192c7c"
   }
  }
 },
 "nbformat": 4,
 "nbformat_minor": 2
}
