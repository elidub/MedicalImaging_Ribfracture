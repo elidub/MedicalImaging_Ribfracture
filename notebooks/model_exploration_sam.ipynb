{
 "cells": [
  {
   "cell_type": "code",
   "execution_count": 1,
   "metadata": {},
   "outputs": [],
   "source": [
    "import os\n",
    "import gzip\n",
    "import torch\n",
    "import nibabel as nib\n",
    "\n",
    "# Move working dir to access src\n",
    "os.chdir(\"../\")\n",
    "\n",
    "def read_image(file_path):\n",
    "    nii_img = nib.load(file_path)\n",
    "    image_data = nii_img.get_fdata()\n",
    "    header = nii_img.header\n",
    "    return image_data, header"
   ]
  },
  {
   "cell_type": "code",
   "execution_count": null,
   "metadata": {},
   "outputs": [],
   "source": [
    "image_data, _ = read_image('data_dev/train/images/RibFrac422-image.nii.gz') \n",
    "label_data, header = read_image('data_dev/train/labels/RibFrac422-label.nii.gz')"
   ]
  },
  {
   "cell_type": "code",
   "execution_count": null,
   "metadata": {},
   "outputs": [],
   "source": [
    "# Add batch and channel dimensions\n",
    "image_data = torch.tensor(image_data).unsqueeze(0).unsqueeze(0).float()"
   ]
  },
  {
   "cell_type": "code",
   "execution_count": null,
   "metadata": {},
   "outputs": [],
   "source": [
    "from src.model.models import UNet3D\n",
    "\n",
    "unet3d = UNet3D(1, 3)\n",
    "\n",
    "# Run 3D U-Net on [1, 1, 112, 112, 112] volume\n",
    "data = image_data[:, :, :112, :112, :112]\n",
    "unet3d_y = unet3d(data)\n",
    "unet3d_y.shape"
   ]
  },
  {
   "cell_type": "code",
   "execution_count": null,
   "metadata": {},
   "outputs": [],
   "source": [
    "from src.model.models import ResNet183D\n",
    "\n",
    "resnet183d = ResNet183D(1)\n",
    "\n",
    "# Run 3D ResNet18 on [1, 1, 64, 64, 64] volume\n",
    "data = image_data[:, :, :64, :64, :64]\n",
    "resnet183d_y = resnet183d(data)\n",
    "[e.shape for e in resnet183d_y]"
   ]
  },
  {
   "cell_type": "code",
   "execution_count": null,
   "metadata": {},
   "outputs": [],
   "source": [
    "from src.model.models import PyramidFeatures3D\n",
    "\n",
    "fpn3d = PyramidFeatures3D(128, 256, 512)\n",
    "fpn3d_y = fpn3d(*resnet183d_y)\n",
    "[e.shape for e in fpn3d_y]"
   ]
  },
  {
   "cell_type": "code",
   "execution_count": null,
   "metadata": {},
   "outputs": [],
   "source": [
    "from src.model.models import RegressionBlock3D\n",
    "\n",
    "regressgion_block = RegressionBlock3D(256)\n",
    "regressgion_block_y = torch.cat([regressgion_block(f) for f in fpn3d_y], dim=1)\n",
    "regressgion_block_y.shape"
   ]
  },
  {
   "cell_type": "code",
   "execution_count": null,
   "metadata": {},
   "outputs": [],
   "source": [
    "from src.model.models import ClassificationBlock3D\n",
    "\n",
    "classification_block = ClassificationBlock3D(256)\n",
    "classification_block_y = torch.cat([classification_block(f) for f in fpn3d_y], dim=1)\n",
    "classification_block_y.shape"
   ]
  },
  {
   "cell_type": "code",
   "execution_count": null,
   "metadata": {},
   "outputs": [],
   "source": [
    "from src.model.anchors import Anchors3D\n",
    "\n",
    "anchors = Anchors3D()\n",
    "data = image_data[:, :, :64, :64, :64]\n",
    "anchors_y = anchors(data)\n",
    "anchors_y.shape"
   ]
  },
  {
   "cell_type": "code",
   "execution_count": null,
   "metadata": {},
   "outputs": [],
   "source": [
    "from src.model.models import RetinaNet3D\n",
    "\n",
    "retinanet = RetinaNet3D(1, num_classes=1)\n",
    "data = image_data[:, :, :64, :64, :64]\n",
    "retinanet_y = retinanet(data)\n",
    "[e.shape for e in retinanet_y]"
   ]
  },
  {
   "cell_type": "code",
   "execution_count": null,
   "metadata": {},
   "outputs": [],
   "source": [
    "from src.model.modules import RetinaNetLoss, BoxLabelEncoder\n",
    "\n",
    "\n",
    "encoder = BoxLabelEncoder()\n",
    "criterion = RetinaNetLoss()\n",
    "\n",
    "pred_box = torch.rand((8, 70215, 6))\n",
    "pred_cls = torch.rand((8, 70215, 3))\n",
    "\n",
    "gt_box = torch.rand((8, 5, 6)) * 64\n",
    "gt_cls = torch.rand((8, 5, 1)).long()\n",
    "\n",
    "gt_box, gt_cls = encoder.encode(gt_box, gt_cls)\n",
    "\n",
    "box_loss, cls_loss = criterion(pred_box, pred_cls, gt_box, gt_cls)\n",
    "(box_loss + cls_loss).mean()"
   ]
  },
  {
   "cell_type": "markdown",
   "metadata": {},
   "source": [
    "## Training a RetinaNet on two volumes"
   ]
  },
  {
   "cell_type": "code",
   "execution_count": 2,
   "metadata": {},
   "outputs": [
    {
     "name": "stdout",
     "output_type": "stream",
     "text": [
      "torch.Size([2, 1, 64, 64, 64]) torch.Size([2, 6, 6]) torch.Size([2, 6, 1])\n"
     ]
    }
   ],
   "source": [
    "import json\n",
    "from torch.nn.functional import interpolate\n",
    "\n",
    "with open(\"data_dev/train/train.json\", \"r\") as f:\n",
    "    train_boxes = json.load(f)\n",
    "\n",
    "# Load images and corresponding box labels\n",
    "x0 = torch.tensor(read_image(\"data_dev/train/images/RibFrac421-image.nii.gz\")[0])\n",
    "x1 = torch.tensor(read_image(\"data_dev/train/images/RibFrac422-image.nii.gz\")[0])\n",
    "y0 = torch.tensor(train_boxes[\"RibFrac421\"])\n",
    "y1 = torch.tensor(train_boxes[\"RibFrac422\"])\n",
    "\n",
    "# Convert box labels to be relative\n",
    "def convert_box_format(box, shape):\n",
    "    box[:,0] /= shape[0]\n",
    "    box[:,3] /= shape[0]\n",
    "\n",
    "    box[:,1] /= shape[1]\n",
    "    box[:,4] /= shape[1]\n",
    "\n",
    "    box[:,2] /= shape[2]\n",
    "    box[:,5] /= shape[2]\n",
    "\n",
    "    return box\n",
    "\n",
    "y0 = (convert_box_format(y0.float(), x0.shape) * 64).long().unsqueeze(0)\n",
    "y1 = (convert_box_format(y1.float(), x1.shape) * 64).long().unsqueeze(0)\n",
    "\n",
    "# Add padding to smaller labels\n",
    "y0 = torch.cat([y0, torch.zeros(1, 2, 6)], dim=1)\n",
    "\n",
    "# Downsample input volumes\n",
    "x0 = interpolate(x0.unsqueeze(0).unsqueeze(0), size=(64, 64, 64))\n",
    "x1 = interpolate(x1.unsqueeze(0).unsqueeze(0), size=(64, 64, 64))\n",
    "\n",
    "# Create training batches\n",
    "x_batch = torch.cat([x0, x1], dim=0)\n",
    "y_batch_box = torch.cat([y0, y1], dim=0)\n",
    "y_batch_cls = torch.ones(2, 6, 1)\n",
    "\n",
    "print(x_batch.shape, y_batch_box.shape, y_batch_cls.shape)\n"
   ]
  },
  {
   "cell_type": "code",
   "execution_count": 3,
   "metadata": {},
   "outputs": [
    {
     "name": "stderr",
     "output_type": "stream",
     "text": [
      "/home/samtitar/miniconda3/envs/ai4med/lib/python3.11/site-packages/torch/functional.py:504: UserWarning: torch.meshgrid: in an upcoming release, it will be required to pass the indexing argument. (Triggered internally at ../aten/src/ATen/native/TensorShape.cpp:3483.)\n",
      "  return _VF.meshgrid(tensors, **kwargs)  # type: ignore[attr-defined]\n"
     ]
    }
   ],
   "source": [
    "from src.model.models import RetinaNet3D\n",
    "from src.model.modules import RetinaNetLoss, BoxLabelEncoder\n",
    "\n",
    "# Encode labels\n",
    "encoder = BoxLabelEncoder()\n",
    "y_batch_box, y_batch_cls = encoder.encode(y_batch_box, y_batch_cls)\n",
    "\n",
    "# Initialize model\n",
    "model = RetinaNet3D(1, num_classes=1)\n",
    "\n",
    "# Initialize optimizer and criterion\n",
    "criterion = RetinaNetLoss()\n",
    "optimizer = torch.optim.Adam(model.parameters(), lr=0.0001)"
   ]
  },
  {
   "cell_type": "code",
   "execution_count": null,
   "metadata": {},
   "outputs": [],
   "source": [
    "for i in range(10000):\n",
    "    optimizer.zero_grad()\n",
    "    y_hat_box, y_hat_cls = model(x_batch.float())\n",
    "\n",
    "    box_loss, cls_loss = criterion(y_hat_box, y_hat_cls, y_batch_box, y_batch_cls)\n",
    "\n",
    "    loss = (box_loss + cls_loss).mean()\n",
    "    loss.backward()\n",
    "    optimizer.step()\n",
    "\n",
    "    print(box_loss.mean().item(), cls_loss.mean().item())"
   ]
  },
  {
   "cell_type": "code",
   "execution_count": null,
   "metadata": {},
   "outputs": [],
   "source": []
  }
 ],
 "metadata": {
  "kernelspec": {
   "display_name": "ribfrac",
   "language": "python",
   "name": "python3"
  },
  "language_info": {
   "codemirror_mode": {
    "name": "ipython",
    "version": 3
   },
   "file_extension": ".py",
   "mimetype": "text/x-python",
   "name": "python",
   "nbconvert_exporter": "python",
   "pygments_lexer": "ipython3",
   "version": "3.11.5"
  },
  "orig_nbformat": 4,
  "vscode": {
   "interpreter": {
    "hash": "037ce4eb734ca796724a3bfcd2e87a1a9135271f13e06f89372baf4d03192c7c"
   }
  }
 },
 "nbformat": 4,
 "nbformat_minor": 2
}
