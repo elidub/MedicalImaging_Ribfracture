{
 "cells": [
  {
   "cell_type": "code",
   "execution_count": 1,
   "metadata": {},
   "outputs": [],
   "source": [
    "import os\n",
    "import gzip\n",
    "import torch\n",
    "import nibabel as nib\n",
    "\n",
    "# Move working dir to access src\n",
    "os.chdir(\"../\")"
   ]
  },
  {
   "cell_type": "code",
   "execution_count": 2,
   "metadata": {},
   "outputs": [
    {
     "data": {
      "text/plain": [
       "[torch.Size([1, 128, 16, 16, 16]),\n",
       " torch.Size([1, 256, 8, 8, 8]),\n",
       " torch.Size([1, 512, 4, 4, 4])]"
      ]
     },
     "execution_count": 2,
     "metadata": {},
     "output_type": "execute_result"
    }
   ],
   "source": [
    "from src.model.models import ResNet3D\n",
    "\n",
    "resnet3d = ResNet3D(1)\n",
    "\n",
    "# Run 3D ResNet18 on [1, 1, 64, 64, 64] volume\n",
    "data = torch.randn(1, 1, 64, 64, 64)\n",
    "resnet3d_y = resnet3d(data)\n",
    "[e.shape for e in resnet3d_y]"
   ]
  },
  {
   "cell_type": "code",
   "execution_count": 3,
   "metadata": {},
   "outputs": [
    {
     "data": {
      "text/plain": [
       "[torch.Size([1, 256, 16, 16, 16]),\n",
       " torch.Size([1, 256, 8, 8, 8]),\n",
       " torch.Size([1, 256, 4, 4, 4]),\n",
       " torch.Size([1, 256, 2, 2, 2]),\n",
       " torch.Size([1, 256, 1, 1, 1])]"
      ]
     },
     "execution_count": 3,
     "metadata": {},
     "output_type": "execute_result"
    }
   ],
   "source": [
    "from src.model.models import PyramidFeatures3D\n",
    "\n",
    "fpn3d = PyramidFeatures3D(128, 256, 512)\n",
    "fpn3d_y = fpn3d(*resnet3d_y)\n",
    "[e.shape for e in fpn3d_y]"
   ]
  },
  {
   "cell_type": "code",
   "execution_count": 4,
   "metadata": {},
   "outputs": [
    {
     "data": {
      "text/plain": [
       "torch.Size([1, 70215, 6])"
      ]
     },
     "execution_count": 4,
     "metadata": {},
     "output_type": "execute_result"
    }
   ],
   "source": [
    "from src.model.models import RegressionBlock3D\n",
    "\n",
    "regressgion_block = RegressionBlock3D(256)\n",
    "regressgion_block_y = torch.cat([regressgion_block(f) for f in fpn3d_y], dim=1)\n",
    "regressgion_block_y.shape"
   ]
  },
  {
   "cell_type": "code",
   "execution_count": 5,
   "metadata": {},
   "outputs": [
    {
     "data": {
      "text/plain": [
       "torch.Size([1, 70215, 10])"
      ]
     },
     "execution_count": 5,
     "metadata": {},
     "output_type": "execute_result"
    }
   ],
   "source": [
    "from src.model.models import ClassificationBlock3D\n",
    "\n",
    "classification_block = ClassificationBlock3D(256)\n",
    "classification_block_y = torch.cat([classification_block(f) for f in fpn3d_y], dim=1)\n",
    "classification_block_y.shape"
   ]
  },
  {
   "cell_type": "code",
   "execution_count": 6,
   "metadata": {},
   "outputs": [
    {
     "name": "stdout",
     "output_type": "stream",
     "text": [
      "torch.Size([70080, 6])\n"
     ]
    },
    {
     "name": "stderr",
     "output_type": "stream",
     "text": [
      "/home/samtitar/miniconda3/envs/ai4med/lib/python3.11/site-packages/torch/functional.py:504: UserWarning: torch.meshgrid: in an upcoming release, it will be required to pass the indexing argument. (Triggered internally at ../aten/src/ATen/native/TensorShape.cpp:3483.)\n",
      "  return _VF.meshgrid(tensors, **kwargs)  # type: ignore[attr-defined]\n"
     ]
    },
    {
     "data": {
      "text/plain": [
       "torch.Size([70080, 6])"
      ]
     },
     "execution_count": 6,
     "metadata": {},
     "output_type": "execute_result"
    }
   ],
   "source": [
    "from src.model.anchors import Anchors3D\n",
    "\n",
    "anchors = Anchors3D()\n",
    "data = torch.randn(1, 1, 64, 64, 64)\n",
    "anchors_y = anchors(data)\n",
    "anchors_y.shape"
   ]
  },
  {
   "cell_type": "code",
   "execution_count": 7,
   "metadata": {},
   "outputs": [
    {
     "data": {
      "text/plain": [
       "[torch.Size([1, 70080, 6]), torch.Size([1, 70080, 3])]"
      ]
     },
     "execution_count": 7,
     "metadata": {},
     "output_type": "execute_result"
    }
   ],
   "source": [
    "from src.model.models import RetinaNet3D\n",
    "\n",
    "retinanet = RetinaNet3D(1, num_classes=1)\n",
    "data = torch.randn(1, 1, 64, 64, 64)\n",
    "retinanet_y = retinanet(data)\n",
    "[e.shape for e in retinanet_y]"
   ]
  },
  {
   "cell_type": "code",
   "execution_count": 8,
   "metadata": {},
   "outputs": [
    {
     "name": "stdout",
     "output_type": "stream",
     "text": [
      "torch.Size([70080, 6])\n"
     ]
    },
    {
     "name": "stderr",
     "output_type": "stream",
     "text": [
      "/home/samtitar/miniconda3/envs/ai4med/lib/python3.11/site-packages/torch/nn/_reduction.py:42: UserWarning: size_average and reduce args will be deprecated, please use reduction='none' instead.\n",
      "  warnings.warn(warning.format(ret))\n"
     ]
    }
   ],
   "source": [
    "from src.model.modules import RetinaNetLoss, BoxLabelEncoder\n",
    "\n",
    "encoder = BoxLabelEncoder(volume_width=64, volume_height=64, volume_depth=64)\n",
    "\n",
    "criterion = RetinaNetLoss()\n",
    "\n",
    "pred_box = torch.rand((8, 70080, 6))\n",
    "pred_cls = torch.rand((8, 70080, 3))\n",
    "\n",
    "gt_box = torch.rand((8, 5, 6)) * 64\n",
    "gt_cls = torch.rand((8, 5, 1)).long()\n",
    "\n",
    "gt_box, gt_cls = encoder.encode(gt_box, gt_cls)\n",
    "\n",
    "box_loss, cls_loss = criterion(pred_box, pred_cls, gt_box, gt_cls)"
   ]
  }
 ],
 "metadata": {
  "kernelspec": {
   "display_name": "ribfrac",
   "language": "python",
   "name": "python3"
  },
  "language_info": {
   "codemirror_mode": {
    "name": "ipython",
    "version": 3
   },
   "file_extension": ".py",
   "mimetype": "text/x-python",
   "name": "python",
   "nbconvert_exporter": "python",
   "pygments_lexer": "ipython3",
   "version": "3.11.5"
  },
  "orig_nbformat": 4,
  "vscode": {
   "interpreter": {
    "hash": "037ce4eb734ca796724a3bfcd2e87a1a9135271f13e06f89372baf4d03192c7c"
   }
  }
 },
 "nbformat": 4,
 "nbformat_minor": 2
}
