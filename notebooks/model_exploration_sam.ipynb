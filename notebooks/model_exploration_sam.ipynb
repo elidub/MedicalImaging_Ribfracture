{
 "cells": [
  {
   "cell_type": "code",
   "execution_count": null,
   "metadata": {},
   "outputs": [],
   "source": [
    "import os\n",
    "import gzip\n",
    "import torch\n",
    "import nibabel as nib\n",
    "\n",
    "# Move working dir to access src\n",
    "os.chdir(\"../\")\n",
    "\n",
    "def read_image(file_path):\n",
    "    nii_img = nib.load(file_path)\n",
    "    image_data = nii_img.get_fdata()\n",
    "    header = nii_img.header\n",
    "    return image_data, header"
   ]
  },
  {
   "cell_type": "code",
   "execution_count": null,
   "metadata": {},
   "outputs": [],
   "source": [
    "image_data, _ = read_image('data_dev/train/images/RibFrac422-image.nii.gz') \n",
    "label_data, header = read_image('data_dev/train/labels/RibFrac422-label.nii.gz')"
   ]
  },
  {
   "cell_type": "code",
   "execution_count": null,
   "metadata": {},
   "outputs": [],
   "source": [
    "# Add batch and channel dimensions\n",
    "image_data = torch.tensor(image_data).unsqueeze(0).unsqueeze(0).float()"
   ]
  },
  {
   "cell_type": "code",
   "execution_count": null,
   "metadata": {},
   "outputs": [],
   "source": [
    "from src.model.models import UNet3D\n",
    "\n",
    "unet3d = UNet3D(1, 3)\n",
    "\n",
    "# Run 3D U-Net on [1, 1, 112, 112, 112] volume\n",
    "data = image_data[:, :, :112, :112, :112]\n",
    "unet3d_y = unet3d(data)\n",
    "unet3d_y.shape"
   ]
  },
  {
   "cell_type": "code",
   "execution_count": null,
   "metadata": {},
   "outputs": [],
   "source": [
    "from src.model.models import ResNet183D\n",
    "\n",
    "resnet183d = ResNet183D(1)\n",
    "\n",
    "# Run 3D ResNet18 on [1, 1, 56, 56, 56] volume\n",
    "data = image_data[:, :, :56, :56, :56]\n",
    "resnet183d_y = resnet183d(data)\n",
    "[e.shape for e in resnet183d_y]"
   ]
  },
  {
   "cell_type": "code",
   "execution_count": null,
   "metadata": {},
   "outputs": [],
   "source": [
    "from src.model.models import PyramidFeatures3D\n",
    "\n",
    "fpn3d = PyramidFeatures3D(128, 256, 512)\n",
    "fpn3d_y = fpn3d(*resnet183d_y)\n",
    "[e.shape for e in fpn3d_y]"
   ]
  },
  {
   "cell_type": "code",
   "execution_count": null,
   "metadata": {},
   "outputs": [],
   "source": [
    "from src.model.models import RegressionBlock3D\n",
    "\n",
    "regressgion_block = RegressionBlock3D(256)\n",
    "regressgion_block_y = torch.cat([regressgion_block(f) for f in fpn3d_y], dim=1)\n",
    "regressgion_block_y.shape"
   ]
  },
  {
   "cell_type": "code",
   "execution_count": null,
   "metadata": {},
   "outputs": [],
   "source": [
    "from src.model.models import ClassificationBlock3D\n",
    "\n",
    "classification_block = ClassificationBlock3D(256)\n",
    "classification_block_y = torch.cat([classification_block(f) for f in fpn3d_y], dim=1)\n",
    "classification_block_y.shape"
   ]
  },
  {
   "cell_type": "code",
   "execution_count": null,
   "metadata": {},
   "outputs": [],
   "source": [
    "from src.model.anchors import Anchors3D\n",
    "\n",
    "anchors = Anchors3D()\n",
    "data = image_data[:, :, :56, :56, :56]\n",
    "anchors_y = anchors(data)\n",
    "anchors_y.shape"
   ]
  },
  {
   "cell_type": "code",
   "execution_count": null,
   "metadata": {},
   "outputs": [],
   "source": [
    "from src.model.models import RetinaNet3D\n",
    "\n",
    "retinanet = RetinaNet3D(1, num_classes=1)\n",
    "data = image_data[:, :, :56, :56, :56]\n",
    "retinanet_y = retinanet(data)\n",
    "[e.shape for e in retinanet_y]"
   ]
  },
  {
   "cell_type": "code",
   "execution_count": null,
   "metadata": {},
   "outputs": [],
   "source": [
    "from src.model.anchors import Anchors3D\n",
    "\n",
    "anchors = Anchors3D()\n",
    "data = image_data[:, :, :56, :56, :56]\n",
    "anchors_y = anchors(data)\n",
    "anchors_y.shape"
   ]
  }
 ],
 "metadata": {
  "kernelspec": {
   "display_name": "ribfrac",
   "language": "python",
   "name": "python3"
  },
  "language_info": {
   "codemirror_mode": {
    "name": "ipython",
    "version": 3
   },
   "file_extension": ".py",
   "mimetype": "text/x-python",
   "name": "python",
   "nbconvert_exporter": "python",
   "pygments_lexer": "ipython3",
   "version": "3.11.5"
  },
  "orig_nbformat": 4,
  "vscode": {
   "interpreter": {
    "hash": "037ce4eb734ca796724a3bfcd2e87a1a9135271f13e06f89372baf4d03192c7c"
   }
  }
 },
 "nbformat": 4,
 "nbformat_minor": 2
}
