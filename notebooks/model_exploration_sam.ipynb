{
 "cells": [
  {
   "attachments": {},
   "cell_type": "markdown",
   "metadata": {},
   "source": [
    "# Data Exploration, Pre-Processing, and Loading"
   ]
  },
  {
   "attachments": {},
   "cell_type": "markdown",
   "metadata": {},
   "source": [
    "## 1 Investigation"
   ]
  },
  {
   "cell_type": "code",
   "execution_count": 1,
   "metadata": {},
   "outputs": [],
   "source": [
    "import os\n",
    "import gzip\n",
    "import torch\n",
    "import nibabel as nib\n",
    "\n",
    "# Move working dir to access src\n",
    "os.chdir(\"../\")\n",
    "\n",
    "def read_image(file_path):\n",
    "    nii_img = nib.load(file_path)\n",
    "    image_data = nii_img.get_fdata()\n",
    "    header = nii_img.header\n",
    "    return image_data, header"
   ]
  },
  {
   "cell_type": "code",
   "execution_count": 2,
   "metadata": {},
   "outputs": [],
   "source": [
    "image_data, _ = read_image('data_dev/train/images/RibFrac422-image.nii.gz') \n",
    "label_data, header = read_image('data_dev/train/labels/RibFrac422-label.nii.gz')"
   ]
  },
  {
   "cell_type": "code",
   "execution_count": 3,
   "metadata": {},
   "outputs": [],
   "source": [
    "# Add batch and channel dimensions\n",
    "image_data = torch.tensor(image_data).unsqueeze(0).unsqueeze(0).float()"
   ]
  },
  {
   "cell_type": "code",
   "execution_count": 5,
   "metadata": {},
   "outputs": [
    {
     "data": {
      "text/plain": [
       "torch.Size([1, 3, 112, 112, 320])"
      ]
     },
     "execution_count": 5,
     "metadata": {},
     "output_type": "execute_result"
    }
   ],
   "source": [
    "from src.model.models import UNet3D\n",
    "\n",
    "model = UNet3D(1, 3)\n",
    "\n",
    "data = image_data[:, :112, :112, :112]\n",
    "y = model(data)\n",
    "y.shape"
   ]
  },
  {
   "cell_type": "code",
   "execution_count": null,
   "metadata": {},
   "outputs": [],
   "source": []
  }
 ],
 "metadata": {
  "kernelspec": {
   "display_name": "ribfrac",
   "language": "python",
   "name": "python3"
  },
  "language_info": {
   "codemirror_mode": {
    "name": "ipython",
    "version": 3
   },
   "file_extension": ".py",
   "mimetype": "text/x-python",
   "name": "python",
   "nbconvert_exporter": "python",
   "pygments_lexer": "ipython3",
   "version": "3.11.5"
  },
  "orig_nbformat": 4,
  "vscode": {
   "interpreter": {
    "hash": "037ce4eb734ca796724a3bfcd2e87a1a9135271f13e06f89372baf4d03192c7c"
   }
  }
 },
 "nbformat": 4,
 "nbformat_minor": 2
}
